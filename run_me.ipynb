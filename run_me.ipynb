{
 "cells": [
  {
   "cell_type": "markdown",
   "id": "lucky-parts",
   "metadata": {},
   "source": [
    " Please read the [README](README.md) file first to download necessary data and make essential configuration. If you follow the instructions in [README](README.md), then you should be using *pipenv* to create virtual env. Remember to enter the virtual env before running this script. "
   ]
  },
  {
   "cell_type": "markdown",
   "id": "81bd5998",
   "metadata": {},
   "source": [
    "# Initial Probability Assignment\n",
    "Before being able to assign probabilities, a probability calibrator must be trained. This step will require some training data. The command below will train a calibration model that could be used to transform scores into probabilityes. "
   ]
  },
  {
   "cell_type": "code",
   "execution_count": 1,
   "id": "determined-department",
   "metadata": {},
   "outputs": [
    {
     "name": "stdout",
     "output_type": "stream",
     "text": [
      "INFO:root:Loading training data from /home/ricky/TREAT/proba-assign/inputs/train.dat ...\n",
      "INFO:root:training...\n",
      "INFO:root:Saving calibraiton model to /home/ricky/TREAT/proba-assign/inputs/cal.model...\n",
      "INFO:root:Done!\n"
     ]
    }
   ],
   "source": [
    "!python train_cal.py\n",
    "# !python train_cal.py -i inputs/train.dat -o inputs/cal.model"
   ]
  },
  {
   "cell_type": "markdown",
   "id": "b901f3ea",
   "metadata": {},
   "source": [
    "Now we can assign initial probabilities"
   ]
  },
  {
   "cell_type": "code",
   "execution_count": 2,
   "id": "2748ba9f",
   "metadata": {},
   "outputs": [
    {
     "name": "stdout",
     "output_type": "stream",
     "text": [
      "INFO:root:Loading triple from /home/ricky/TREAT/proba-assign/inputs/prod.dat ...\n",
      "INFO:root:Loading calibration model from /home/ricky/TREAT/proba-assign/inputs/cal.model ...\n",
      "INFO:root:Assigning probabilities ...\n",
      "INFO:root:Storing PKB to /home/ricky/TREAT/proba-assign/outputs/pkb.dat ...\n",
      "INFO:root:Done!\n"
     ]
    }
   ],
   "source": [
    "!python assign.py \n",
    "# !python assign.py -i inputs/prod.dat -o outputs/pkb.dat -m inputs/cal.model"
   ]
  },
  {
   "cell_type": "markdown",
   "id": "f9073926",
   "metadata": {},
   "source": [
    "The results are stored in the file `outputs/pkb.dat` (or your configured directory). The output data format is like `<head, relation, tail, probability, strength>`, where the strength indicates our confidence of the computed probability. Now we can check the former 10 lines of the result file."
   ]
  },
  {
   "cell_type": "code",
   "execution_count": 3,
   "id": "937cd20f",
   "metadata": {
    "scrolled": true
   },
   "outputs": [
    {
     "name": "stdout",
     "output_type": "stream",
     "text": [
      "http://treat.net/onto.owl#alm_100185\thttp://treat.net/onto.owl#caused_by\thttp://treat.net/onto.owl#alm_100058_uam40_15684\t0.0\t2.0\r\n",
      "http://treat.net/onto.owl#alarm_para_instance_1798\thttp://treat.net/onto.owl#category\thttp://treat.net/onto.owl#alarm_para_instance_1351\t0.003\t2.0\r\n",
      "http://treat.net/onto.owl#alarm_para_instance_713\thttp://treat.net/onto.owl#category\thttp://treat.net/onto.owl#alm_221257768\t0.035\t2.0\r\n",
      "http://treat.net/onto.owl#alarm_para_instance_950\thttp://treat.net/onto.owl#category\thttp://treat.net/onto.owl#alm_100058_uam40_15666\t0.0\t2.0\r\n",
      "http://treat.net/onto.owl#alm_100001_uam20_10\thttp://treat.net/onto.owl#has_parameter\thttp://treat.net/onto.owl#alarm_para_instance_296\t0.001\t2.0\r\n",
      "http://treat.net/onto.owl#alm_100001_usm21_249\thttp://treat.net/onto.owl#has_parameter\thttp://treat.net/onto.owl#alarm_para_instance_2242\t0.018\t2.0\r\n",
      "http://treat.net/onto.owl#alm_100001_usm21_28\thttp://treat.net/onto.owl#has_parameter\thttp://treat.net/onto.owl#alarm_para_instance_1346\t0.007\t2.0\r\n",
      "http://treat.net/onto.owl#alm_5521_usm21_853\thttp://treat.net/onto.owl#has_parameter\thttp://treat.net/onto.owl#alm_para_186\t0.005\t2.0\r\n",
      "http://treat.net/onto.owl#alm_152109058\thttp://treat.net/onto.owl#has_parameter\thttp://treat.net/onto.owl#alm_para_169\t0.023\t2.0\r\n",
      "http://treat.net/onto.owl#nfs_operation_60\thttp://treat.net/onto.owl#has_parameter\thttp://treat.net/onto.owl#alarm_para_instance_407\t0.001\t2.0\r\n"
     ]
    }
   ],
   "source": [
    "!head -n 10 \"outputs/pkb.dat\""
   ]
  },
  {
   "cell_type": "markdown",
   "id": "3a06f308",
   "metadata": {},
   "source": [
    "Actually, the *probability* and the *strength* together form a Beta distribution $Beta(a, b)$ where $a=probability*strength, b=(1-probability)*strength$. In this way, we not only have a probability value of a triple, but a **probability distribution of that probability** of the triple. However, the *strength* here is assigned a fixed value, 2 (on behalf of a weak strength, it could be an arbitrary small number, but conventionally we use 2). It is to be updated in the following step."
   ]
  },
  {
   "cell_type": "markdown",
   "id": "bbefe8f0",
   "metadata": {},
   "source": [
    "# Probability Updating\n",
    "\n",
    "The updating procedure will integrate the information of the evidence into the existing knowledge, by adding new probabilistic triples, or updating the probability value of existing triples. The required data format is `<head, relation, tail, probability>`, the *probability* of which could be obtained by `assign.py`. An example input is:"
   ]
  },
  {
   "cell_type": "code",
   "execution_count": 4,
   "id": "37b7c295",
   "metadata": {},
   "outputs": [
    {
     "name": "stdout",
     "output_type": "stream",
     "text": [
      "http://treat.net/onto.owl#alm_5521_uam20_685\thttp://treat.net/onto.owl#has_parameter\thttp://treat.net/onto.owl#alarm_para_instance_1628\t0.23630100592339764\r\n",
      "http://treat.net/onto.owl#alm_100001_uam20_280\thttp://treat.net/onto.owl#has_parameter\thttp://treat.net/onto.owl#alarm_para_instance_2783\t0.9701712202310359\r\n",
      "http://treat.net/onto.owl#alm_221257878\thttp://treat.net/onto.owl#has_parameter\thttp://treat.net/onto.owl#alm_100001_usm21_736\t0.3636269391610121\r\n",
      "http://treat.net/onto.owl#alm_5521_usm21_721\thttp://treat.net/onto.owl#has_parameter\thttp://treat.net/onto.owl#alm_100001_usm21_46\t0.895746043753355\r\n",
      "http://treat.net/onto.owl#alm_100058_uam40_15809\thttp://treat.net/onto.owl#has_parameter\thttp://treat.net/onto.owl#alarm_para_instance_1080\t0.5330004485415151\r\n",
      "http://treat.net/onto.owl#alm_100001_usm21_440\thttp://treat.net/onto.owl#category\thttp://treat.net/onto.owl#alm_para_195\t0.5636861902839531\r\n",
      "http://treat.net/onto.owl#alarm_para_instance_733\thttp://treat.net/onto.owl#caused_by\thttp://treat.net/onto.owl#alm_100001_usm21_177\t0.3409752626017214\r\n",
      "http://treat.net/onto.owl#alm_level_2\thttp://treat.net/onto.owl#caused_by\thttp://treat.net/onto.owl#alm_5521_uam20_476\t0.08806675142449216\r\n",
      "http://treat.net/onto.owl#alm_5521_usm21_728\thttp://treat.net/onto.owl#alarm_source\thttp://treat.net/onto.owl#alm_100001_usm21_517\t0.7879823827559467\r\n",
      "http://treat.net/onto.owl#alm_100058_uam40_15566\thttp://treat.net/onto.owl#has_property\thttp://treat.net/onto.owl#alm_level_2\t0.09436905325197054\r\n"
     ]
    }
   ],
   "source": [
    "!head -n 10 \"inputs/synthetic_evidence.dat\""
   ]
  },
  {
   "cell_type": "markdown",
   "id": "8c91c596",
   "metadata": {},
   "source": [
    "To update probabilities with uncertain evidence, use this command"
   ]
  },
  {
   "cell_type": "code",
   "execution_count": 5,
   "id": "a8fab88a",
   "metadata": {},
   "outputs": [
    {
     "name": "stdout",
     "output_type": "stream",
     "text": [
      "INFO:root:Loading PKB from /home/ricky/TREAT/proba-assign/outputs/pkb.dat ...\n",
      "INFO:root:Performing probabilistic updating by evidence from /home/ricky/TREAT/proba-assign/inputs/synthetic_evidence.dat ...\n",
      "INFO:root:Saving PKB to /home/ricky/TREAT/proba-assign/outputs/pkb.dat ...\n",
      "INFO:root:Done!\n"
     ]
    }
   ],
   "source": [
    "!python update.py \n",
    "# !python update.py -e inputs/synthetic_evidence.dat -d outputs/pkb.dat -o outputs/pkb.dat"
   ]
  },
  {
   "cell_type": "markdown",
   "id": "3f6a0aba",
   "metadata": {},
   "source": [
    "Now we check the former 10 lines of the result file."
   ]
  },
  {
   "cell_type": "code",
   "execution_count": 6,
   "id": "df9381f1",
   "metadata": {},
   "outputs": [
    {
     "name": "stdout",
     "output_type": "stream",
     "text": [
      "http://treat.net/onto.owl#alm_100185\thttp://treat.net/onto.owl#caused_by\thttp://treat.net/onto.owl#alm_100058_uam40_15684\t0.346\t5.0\r\n",
      "http://treat.net/onto.owl#alarm_para_instance_1798\thttp://treat.net/onto.owl#category\thttp://treat.net/onto.owl#alarm_para_instance_1351\t0.003\t2.0\r\n",
      "http://treat.net/onto.owl#alarm_para_instance_713\thttp://treat.net/onto.owl#category\thttp://treat.net/onto.owl#alm_221257768\t0.035\t2.0\r\n",
      "http://treat.net/onto.owl#alarm_para_instance_950\thttp://treat.net/onto.owl#category\thttp://treat.net/onto.owl#alm_100058_uam40_15666\t0.0\t2.0\r\n",
      "http://treat.net/onto.owl#alm_100001_uam20_10\thttp://treat.net/onto.owl#has_parameter\thttp://treat.net/onto.owl#alarm_para_instance_296\t0.144\t3.0\r\n",
      "http://treat.net/onto.owl#alm_100001_usm21_249\thttp://treat.net/onto.owl#has_parameter\thttp://treat.net/onto.owl#alarm_para_instance_2242\t0.368\t4.0\r\n",
      "http://treat.net/onto.owl#alm_100001_usm21_28\thttp://treat.net/onto.owl#has_parameter\thttp://treat.net/onto.owl#alarm_para_instance_1346\t0.28\t5.0\r\n",
      "http://treat.net/onto.owl#alm_5521_usm21_853\thttp://treat.net/onto.owl#has_parameter\thttp://treat.net/onto.owl#alm_para_186\t0.248\t3.0\r\n",
      "http://treat.net/onto.owl#alm_152109058\thttp://treat.net/onto.owl#has_parameter\thttp://treat.net/onto.owl#alm_para_169\t0.322\t3.0\r\n",
      "http://treat.net/onto.owl#nfs_operation_60\thttp://treat.net/onto.owl#has_parameter\thttp://treat.net/onto.owl#alarm_para_instance_407\t0.324\t4.0\r\n"
     ]
    }
   ],
   "source": [
    "!head -n 10 \"outputs/pkb.dat\""
   ]
  },
  {
   "cell_type": "markdown",
   "id": "b154de1a",
   "metadata": {},
   "source": [
    "We can see the probabilities and strengths updated."
   ]
  },
  {
   "cell_type": "markdown",
   "id": "f3245ef4",
   "metadata": {},
   "source": [
    "## Complexity Estimate\n",
    "\n",
    "Initial probability assignment is essentially putting a triple's statistical scores into a probabilisitc classifier, so it takes constant time ($O(1)$) to assign probability per triple.\n",
    "\n",
    "Probability updating works by directly adding a whole evidence (also a probabilitstic triple) into the PKB, or applying Jeffrey's Conditionalisation formula, which is also constant time ($O(1)$) per evidence"
   ]
  },
  {
   "cell_type": "markdown",
   "id": "d8217fa5",
   "metadata": {},
   "source": [
    "## Evaluation\n"
   ]
  },
  {
   "cell_type": "code",
   "execution_count": 7,
   "id": "993d342d",
   "metadata": {},
   "outputs": [
    {
     "name": "stdout",
     "output_type": "stream",
     "text": [
      "INFO:root:Loading triple from inputs/prod.dat ...\n",
      "INFO:root:Loading calibration model from /home/ricky/TREAT/proba-assign/inputs/cal.model ...\n",
      "INFO:root:Assigning probabilities ...\n",
      "INFO:root:Storing PKB to outputs/prod-results.dat ...\n",
      "INFO:root:Done!\n"
     ]
    }
   ],
   "source": [
    "from sklearn.metrics import mean_squared_error, log_loss\n",
    "\n",
    "import utils\n",
    "\n",
    "!python assign.py -i inputs/prod.dat -o outputs/prod-results.dat\n",
    "\n",
    "probas = utils.read_tsv('outputs/prod-results.dat')[:, -2].astype(float)\n",
    "labels = utils.read_tsv('inputs/prod-labelled.dat')[:, -1].astype(int)"
   ]
  },
  {
   "cell_type": "code",
   "execution_count": 8,
   "id": "e52f9780",
   "metadata": {},
   "outputs": [
    {
     "name": "stdout",
     "output_type": "stream",
     "text": [
      "Mean Square Error: 0.032948945003731654\n",
      "Negative Log Loss: 0.10706370382983427\n"
     ]
    }
   ],
   "source": [
    "print('Mean Square Error:', mean_squared_error(labels, probas))\n",
    "print('Negative Log Loss:', log_loss(labels, probas))\n"
   ]
  },
  {
   "cell_type": "code",
   "execution_count": 9,
   "id": "38dae7e7",
   "metadata": {},
   "outputs": [
    {
     "name": "stdout",
     "output_type": "stream",
     "text": [
      "Mean Square Error: 0.3339890495921917\n",
      "Negative Log Loss: 1.0047463842569324\n"
     ]
    }
   ],
   "source": [
    "import numpy as np\n",
    "rand_probas = np.random.rand(len(probas))\n",
    "\n",
    "print('Mean Square Error:', mean_squared_error(labels, rand_probas))\n",
    "print('Negative Log Loss:', log_loss(labels, rand_probas))"
   ]
  },
  {
   "cell_type": "code",
   "execution_count": null,
   "id": "eac00be3",
   "metadata": {},
   "outputs": [],
   "source": []
  }
 ],
 "metadata": {
  "kernelspec": {
   "display_name": "Python 3",
   "language": "python",
   "name": "python3"
  },
  "language_info": {
   "codemirror_mode": {
    "name": "ipython",
    "version": 3
   },
   "file_extension": ".py",
   "mimetype": "text/x-python",
   "name": "python",
   "nbconvert_exporter": "python",
   "pygments_lexer": "ipython3",
   "version": "3.9.7"
  }
 },
 "nbformat": 4,
 "nbformat_minor": 5
}
