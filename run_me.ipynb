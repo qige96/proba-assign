{
 "cells": [
  {
   "cell_type": "markdown",
   "id": "lucky-parts",
   "metadata": {},
   "source": [
    " Please read the [README](README.md) file first to download necessary data and make essential configuration. If you follow the instructions in [README](README.md), then you should be using *pipenv* to create virtual env. Remember to enter the virtual env before running this script. "
   ]
  },
  {
   "cell_type": "markdown",
   "id": "81bd5998",
   "metadata": {},
   "source": [
    "# Initial Probability Assignment\n",
    "Before being able to assign probabilities, a probability calibrator must be trained. This step will require some training data. The command below will train a calibration model that could be used to transform scores into probabilityes. "
   ]
  },
  {
   "cell_type": "code",
   "execution_count": 1,
   "id": "determined-department",
   "metadata": {},
   "outputs": [
    {
     "name": "stderr",
     "output_type": "stream",
     "text": [
      "INFO:root:Loading training data from inputs/train.dat ...\n",
      "INFO:root:training...\n",
      "INFO:root:Saving calibraiton model to inputs/cal.model...\n",
      "INFO:root:Done!\n"
     ]
    }
   ],
   "source": [
    "!python train_cal.py -i inputs/train.dat -o inputs/cal.model"
   ]
  },
  {
   "cell_type": "markdown",
   "id": "b901f3ea",
   "metadata": {},
   "source": [
    "Now we can assign initial probabilities"
   ]
  },
  {
   "cell_type": "code",
   "execution_count": 2,
   "id": "2748ba9f",
   "metadata": {},
   "outputs": [
    {
     "name": "stderr",
     "output_type": "stream",
     "text": [
      "INFO:root:Loading triple from inputs/prod.dat ...\n",
      "INFO:root:Loading calibration model from inputs/cal.model ...\n",
      "INFO:root:Assigning probabilities ...\n",
      "INFO:root:Storing PKB to outputs/pkb.dat ...\n",
      "INFO:root:Done!\n"
     ]
    }
   ],
   "source": [
    "!python assign.py -i inputs/prod.dat -o outputs/pkb.dat -m inputs/cal.model"
   ]
  },
  {
   "cell_type": "markdown",
   "id": "f9073926",
   "metadata": {},
   "source": [
    "The results are stored in the file `outputs/pkb.dat` (or your configured directory). The output data format is like `<head, relation, tail, probability, strength>`, where the strength indicates our confidence of the computed probability. Now we can check the former 10 lines of the result file."
   ]
  },
  {
   "cell_type": "code",
   "execution_count": 3,
   "id": "937cd20f",
   "metadata": {
    "scrolled": true
   },
   "outputs": [
    {
     "name": "stdout",
     "output_type": "stream",
     "text": [
      "umberto_i_of_italy\tcause_of_death\ttyrannicide\t0.994\t2.0\n",
      "umberto_i_of_italy\tcause_of_death\tcerebral_aneurysm\t0.445\t2.0\n",
      "john_glenn_beall_jr\tnationality\tunited_states\t0.583\t2.0\n",
      "john_glenn_beall_jr\tnationality\tancient_greece\t0.43\t2.0\n",
      "john_atkinson_grimshaw\tgender\tmale\t0.53\t2.0\n",
      "john_atkinson_grimshaw\tgender\tfemale\t0.512\t2.0\n",
      "hardinge_giffard_1st_earl_of_halsbury\tgender\tmale\t0.575\t2.0\n",
      "hardinge_giffard_1st_earl_of_halsbury\tgender\tfemale\t0.486\t2.0\n",
      "mike_von_erich\tnationality\tunited_states\t0.534\t2.0\n",
      "mike_von_erich\tnationality\tserbia\t0.468\t2.0\n"
     ]
    }
   ],
   "source": [
    "!head -n 10 \"outputs/pkb.dat\""
   ]
  },
  {
   "cell_type": "markdown",
   "id": "3a06f308",
   "metadata": {},
   "source": [
    "Actually, the *probability* and the *strength* together form a Beta distribution $Beta(a, b)$ where $a=probability*strength, b=(1-probability)*strength$. In this way, we not only have a probability value of a triple, but a **probability distribution of that probability** of the triple. However, the *strength* here is assigned a fixed value, 2 (on behalf of a weak strength, it could be an arbitrary small number, but conventionally we use 2). It is to be updated in the following step."
   ]
  },
  {
   "cell_type": "markdown",
   "id": "bbefe8f0",
   "metadata": {},
   "source": [
    "# Probability Updating\n",
    "\n",
    "The updating procedure will integrate the information of the evidence into the existing knowledge, by adding new probabilistic triples, or updating the probability value of existing triples. The required data format is `<head, relation, tail, probability>`, the *probability* of which could be obtained by `assign.py`. An example input is:"
   ]
  },
  {
   "cell_type": "code",
   "execution_count": 4,
   "id": "37b7c295",
   "metadata": {},
   "outputs": [
    {
     "name": "stdout",
     "output_type": "stream",
     "text": [
      "bill_owen\tprofession\tactor\t0.134\n",
      "mother_cabrini\tnationality\titaly\t0.498\n",
      "bill_haley\tnationality\tunited_states\t0.107\n",
      "david_fasold\tprofession\tsailor\t0.266\n",
      "norbert_poehlke\tgender\tfemale\t0.232\n",
      "gustav_stresemann\tgender\tfemale\t0.978\n",
      "airey_neave\tgender\tmale\t0.349\n",
      "billy_preston\tprofession\tpolitical_prisoner\t0.39\n",
      "rosemary_clooney\tnationality\tunited_states\t0.698\n",
      "thomas_kettle\tprofession\tbarrister\t0.74\n"
     ]
    }
   ],
   "source": [
    "!head -n 10 \"inputs/synthetic_evidence.dat\""
   ]
  },
  {
   "cell_type": "markdown",
   "id": "8c91c596",
   "metadata": {},
   "source": [
    "To update probabilities with uncertain evidence, use this command"
   ]
  },
  {
   "cell_type": "code",
   "execution_count": 5,
   "id": "a8fab88a",
   "metadata": {},
   "outputs": [
    {
     "name": "stderr",
     "output_type": "stream",
     "text": [
      "INFO:root:Loading PKB from outputs/pkb.dat ...\n",
      "INFO:root:Performing probabilistic updating by evidence from inputs/synthetic_evidence.dat ...\n",
      "INFO:root:Saving PKB to outputs/pkb.dat ...\n",
      "INFO:root:Done!\n"
     ]
    }
   ],
   "source": [
    "!python update.py -e inputs/synthetic_evidence.dat -d outputs/pkb.dat -o outputs/pkb.dat"
   ]
  },
  {
   "cell_type": "markdown",
   "id": "3f6a0aba",
   "metadata": {},
   "source": [
    "Now we check the former 10 lines of the result file."
   ]
  },
  {
   "cell_type": "code",
   "execution_count": 6,
   "id": "df9381f1",
   "metadata": {},
   "outputs": [
    {
     "name": "stdout",
     "output_type": "stream",
     "text": [
      "umberto_i_of_italy\tcause_of_death\ttyrannicide\t0.692\t5.0\n",
      "umberto_i_of_italy\tcause_of_death\tcerebral_aneurysm\t0.556\t6.0\n",
      "john_glenn_beall_jr\tnationality\tunited_states\t0.571\t3.0\n",
      "john_glenn_beall_jr\tnationality\tancient_greece\t0.43\t2.0\n",
      "john_atkinson_grimshaw\tgender\tmale\t0.321\t7.0\n",
      "john_atkinson_grimshaw\tgender\tfemale\t0.673\t4.0\n",
      "hardinge_giffard_1st_earl_of_halsbury\tgender\tmale\t0.518\t5.0\n",
      "hardinge_giffard_1st_earl_of_halsbury\tgender\tfemale\t0.559\t5.0\n",
      "mike_von_erich\tnationality\tunited_states\t0.372\t5.0\n",
      "mike_von_erich\tnationality\tserbia\t0.444\t4.0\n"
     ]
    }
   ],
   "source": [
    "!head -n 10 \"outputs/pkb.dat\""
   ]
  },
  {
   "cell_type": "markdown",
   "id": "b154de1a",
   "metadata": {},
   "source": [
    "We can see the probabilities and strengths updated."
   ]
  },
  {
   "cell_type": "markdown",
   "id": "f3245ef4",
   "metadata": {},
   "source": [
    "## Complexity Estimate\n",
    "\n",
    "Initial probability assignment is essentially putting a triple's statistical scores into a probabilisitc classifier, so it takes constant time ($O(1)$) to assign probability per triple.\n",
    "\n",
    "Probability updating works by directly adding a whole evidence (also a probabilitstic triple) into the PKB, or applying Jeffrey's Conditionalisation formula, which is also constant time ($O(1)$) per evidence"
   ]
  }
 ],
 "metadata": {
  "kernelspec": {
   "display_name": "Python 3.7.9 64-bit (system)",
   "language": "python",
   "name": "python3"
  },
  "language_info": {
   "codemirror_mode": {
    "name": "ipython",
    "version": 3
   },
   "file_extension": ".py",
   "mimetype": "text/x-python",
   "name": "python",
   "nbconvert_exporter": "python",
   "pygments_lexer": "ipython3",
   "version": "3.7.9"
  },
  "vscode": {
   "interpreter": {
    "hash": "7b178e119e4111afd45c671d3d5383cdbff08d6f552311dae44ea905ddd61387"
   }
  }
 },
 "nbformat": 4,
 "nbformat_minor": 5
}
